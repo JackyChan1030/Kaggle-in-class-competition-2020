{
 "cells": [
  {
   "cell_type": "markdown",
   "metadata": {},
   "source": [
    "# Speed Time Series Forecasting using XGBoost"
   ]
  },
  {
   "cell_type": "code",
   "execution_count": 14,
   "metadata": {},
   "outputs": [],
   "source": [
    "#Import library\n",
    "import pandas as pd\n",
    "import numpy as np\n",
    "import matplotlib.pyplot as plt\n",
    "import xgboost as xgb\n",
    "from xgboost import plot_importance\n",
    "import holidays\n",
    "import datetime\n",
    "from sklearn.metrics import mean_squared_error, mean_absolute_error"
   ]
  },
  {
   "cell_type": "markdown",
   "metadata": {},
   "source": [
    "# Data "
   ]
  },
  {
   "cell_type": "code",
   "execution_count": 15,
   "metadata": {},
   "outputs": [
    {
     "name": "stderr",
     "output_type": "stream",
     "text": [
      "<ipython-input-15-d24050c7ad84>:2: FutureWarning: The pandas.datetime class is deprecated and will be removed from pandas in a future version. Import from datetime module instead.\n",
      "  dateparse = lambda dates: pd.datetime.strptime(dates, '%d/%m/%Y %H:%M')\n",
      "<ipython-input-15-d24050c7ad84>:5: FutureWarning: The pandas.datetime class is deprecated and will be removed from pandas in a future version. Import from datetime module instead.\n",
      "  dateparse = lambda dates: pd.datetime.strptime(dates, '%d/%m/%Y %H:%M')\n"
     ]
    }
   ],
   "source": [
    "\n",
    "# Read training data from csv file\n",
    "dateparse = lambda dates: pd.datetime.strptime(dates, '%d/%m/%Y %H:%M')\n",
    "data = pd.read_csv('./5001 kaggle/train.csv', index_col='date',date_parser=dateparse)\n",
    "# Read hand in testing data from csv file\n",
    "dateparse = lambda dates: pd.datetime.strptime(dates, '%d/%m/%Y %H:%M')\n",
    "sample_data = pd.read_csv('./5001 kaggle/test.csv', index_col='date',date_parser=dateparse)"
   ]
  },
  {
   "cell_type": "code",
   "execution_count": 16,
   "metadata": {},
   "outputs": [
    {
     "data": {
      "text/html": [
       "<div>\n",
       "<style scoped>\n",
       "    .dataframe tbody tr th:only-of-type {\n",
       "        vertical-align: middle;\n",
       "    }\n",
       "\n",
       "    .dataframe tbody tr th {\n",
       "        vertical-align: top;\n",
       "    }\n",
       "\n",
       "    .dataframe thead th {\n",
       "        text-align: right;\n",
       "    }\n",
       "</style>\n",
       "<table border=\"1\" class=\"dataframe\">\n",
       "  <thead>\n",
       "    <tr style=\"text-align: right;\">\n",
       "      <th></th>\n",
       "      <th>id</th>\n",
       "      <th>speed</th>\n",
       "    </tr>\n",
       "    <tr>\n",
       "      <th>date</th>\n",
       "      <th></th>\n",
       "      <th></th>\n",
       "    </tr>\n",
       "  </thead>\n",
       "  <tbody>\n",
       "    <tr>\n",
       "      <th>2017-01-01 00:00:00</th>\n",
       "      <td>0</td>\n",
       "      <td>43.002930</td>\n",
       "    </tr>\n",
       "    <tr>\n",
       "      <th>2017-01-01 01:00:00</th>\n",
       "      <td>1</td>\n",
       "      <td>46.118696</td>\n",
       "    </tr>\n",
       "    <tr>\n",
       "      <th>2017-01-01 02:00:00</th>\n",
       "      <td>2</td>\n",
       "      <td>44.294158</td>\n",
       "    </tr>\n",
       "    <tr>\n",
       "      <th>2017-01-01 03:00:00</th>\n",
       "      <td>3</td>\n",
       "      <td>41.067468</td>\n",
       "    </tr>\n",
       "    <tr>\n",
       "      <th>2017-01-01 04:00:00</th>\n",
       "      <td>4</td>\n",
       "      <td>46.448653</td>\n",
       "    </tr>\n",
       "    <tr>\n",
       "      <th>...</th>\n",
       "      <td>...</td>\n",
       "      <td>...</td>\n",
       "    </tr>\n",
       "    <tr>\n",
       "      <th>2018-12-31 12:00:00</th>\n",
       "      <td>14001</td>\n",
       "      <td>19.865269</td>\n",
       "    </tr>\n",
       "    <tr>\n",
       "      <th>2018-12-31 15:00:00</th>\n",
       "      <td>14002</td>\n",
       "      <td>17.820375</td>\n",
       "    </tr>\n",
       "    <tr>\n",
       "      <th>2018-12-31 16:00:00</th>\n",
       "      <td>14003</td>\n",
       "      <td>12.501851</td>\n",
       "    </tr>\n",
       "    <tr>\n",
       "      <th>2018-12-31 18:00:00</th>\n",
       "      <td>14004</td>\n",
       "      <td>15.979319</td>\n",
       "    </tr>\n",
       "    <tr>\n",
       "      <th>2018-12-31 20:00:00</th>\n",
       "      <td>14005</td>\n",
       "      <td>40.594183</td>\n",
       "    </tr>\n",
       "  </tbody>\n",
       "</table>\n",
       "<p>14006 rows × 2 columns</p>\n",
       "</div>"
      ],
      "text/plain": [
       "                        id      speed\n",
       "date                                 \n",
       "2017-01-01 00:00:00      0  43.002930\n",
       "2017-01-01 01:00:00      1  46.118696\n",
       "2017-01-01 02:00:00      2  44.294158\n",
       "2017-01-01 03:00:00      3  41.067468\n",
       "2017-01-01 04:00:00      4  46.448653\n",
       "...                    ...        ...\n",
       "2018-12-31 12:00:00  14001  19.865269\n",
       "2018-12-31 15:00:00  14002  17.820375\n",
       "2018-12-31 16:00:00  14003  12.501851\n",
       "2018-12-31 18:00:00  14004  15.979319\n",
       "2018-12-31 20:00:00  14005  40.594183\n",
       "\n",
       "[14006 rows x 2 columns]"
      ]
     },
     "execution_count": 16,
     "metadata": {},
     "output_type": "execute_result"
    }
   ],
   "source": [
    "data"
   ]
  },
  {
   "cell_type": "code",
   "execution_count": 17,
   "metadata": {},
   "outputs": [
    {
     "name": "stdout",
     "output_type": "stream",
     "text": [
      "<class 'pandas.core.frame.DataFrame'>\n",
      "DatetimeIndex: 14006 entries, 2017-01-01 00:00:00 to 2018-12-31 20:00:00\n",
      "Data columns (total 2 columns):\n",
      " #   Column  Non-Null Count  Dtype  \n",
      "---  ------  --------------  -----  \n",
      " 0   id      14006 non-null  int64  \n",
      " 1   speed   14006 non-null  float64\n",
      "dtypes: float64(1), int64(1)\n",
      "memory usage: 328.3 KB\n"
     ]
    }
   ],
   "source": [
    "data.info()"
   ]
  },
  {
   "cell_type": "code",
   "execution_count": 5,
   "metadata": {},
   "outputs": [],
   "source": [
    "# use hk_holidays list to append the hong kong holidays \n",
    "# hk_holidays=[]\n",
    "# for date in holidays.HongKong(years=2020).items():\n",
    "#      hk_holidays.append(str(date[0]))\n",
    "hk_holidays = ['2017-01-02', '2017-01-28', '2017-01-30', '2017-01-31', '2017-04-04', '2017-04-14', '2017-04-15', '2017-04-17', '2017-05-03', '2017-05-01', '2017-05-30', '2017-07-01', '2017-10-05', '2017-10-02', '2017-10-28', '2017-12-25', '2017-12-26', '2018-01-01', '2018-02-16', '2018-02-17', '2018-02-19', '2018-04-05', '2018-03-30', '2018-03-31', '2018-04-02', '2018-05-22', '2018-05-01', '2018-06-18', '2018-07-02', '2018-09-25', '2018-10-01', '2018-10-17', '2018-12-25', '2018-12-26', '2019-01-01', '2019-02-05', '2019-02-06', '2019-02-07', '2019-04-05', '2019-04-19', '2019-04-20', '2019-04-22', '2019-05-13', '2019-05-01', '2019-06-07', '2019-07-01', '2019-09-14', '2019-10-01', '2019-10-07', '2019-12-25', '2019-12-26', '2020-01-01', '2020-01-25', '2020-01-27', '2020-01-28', '2020-04-04', '2020-04-10', '2020-04-11', '2020-04-13', '2020-04-30', '2020-05-01', '2020-06-25', '2020-07-01', '2020-10-02', '2020-10-01', '2020-10-26', '2020-12-25', '2020-12-26']"
   ]
  },
  {
   "cell_type": "markdown",
   "metadata": {},
   "source": [
    "# Create Time Series Features"
   ]
  },
  {
   "cell_type": "code",
   "execution_count": 18,
   "metadata": {},
   "outputs": [],
   "source": [
    "# Since the training data have only datetime feature,we need to create features based on this datetime column\n",
    "def create_features(df, label=None):\n",
    "    df['date'] = df.index # index: DatetimeIndex\n",
    "    df['hour'] = df['date'].dt.hour # dt: DatetimeProperties, hour: Series\n",
    "    df['day_of_week'] = df['date'].dt.dayofweek\n",
    "    df['quarter'] = df['date'].dt.quarter\n",
    "    df['month'] = df['date'].dt.month\n",
    "    df['year'] = df['date'].dt.year\n",
    "    df['day_of_year'] = df['date'].dt.dayofyear\n",
    "    df['day_of_month'] = df['date'].dt.day\n",
    "    df['week_of_year'] = df['date'].dt.weekofyear\n",
    "    df['holidays'] = [1 if str(val).split()[0] in hk_holidays else 0 for val in df.index]\n",
    "\n",
    "    X = df[['hour', 'day_of_week', 'quarter', 'month', 'year', 'day_of_year', 'day_of_month', 'week_of_year','holidays']]\n",
    "    if label:\n",
    "        y = df[label]\n",
    "        return X, y\n",
    "    return X"
   ]
  },
  {
   "cell_type": "code",
   "execution_count": 19,
   "metadata": {},
   "outputs": [
    {
     "name": "stderr",
     "output_type": "stream",
     "text": [
      "<ipython-input-18-43c987ee96bb>:3: SettingWithCopyWarning: \n",
      "A value is trying to be set on a copy of a slice from a DataFrame.\n",
      "Try using .loc[row_indexer,col_indexer] = value instead\n",
      "\n",
      "See the caveats in the documentation: https://pandas.pydata.org/pandas-docs/stable/user_guide/indexing.html#returning-a-view-versus-a-copy\n",
      "  df['date'] = df.index # index: DatetimeIndex\n",
      "<ipython-input-18-43c987ee96bb>:4: SettingWithCopyWarning: \n",
      "A value is trying to be set on a copy of a slice from a DataFrame.\n",
      "Try using .loc[row_indexer,col_indexer] = value instead\n",
      "\n",
      "See the caveats in the documentation: https://pandas.pydata.org/pandas-docs/stable/user_guide/indexing.html#returning-a-view-versus-a-copy\n",
      "  df['hour'] = df['date'].dt.hour # dt: DatetimeProperties, hour: Series\n",
      "<ipython-input-18-43c987ee96bb>:5: SettingWithCopyWarning: \n",
      "A value is trying to be set on a copy of a slice from a DataFrame.\n",
      "Try using .loc[row_indexer,col_indexer] = value instead\n",
      "\n",
      "See the caveats in the documentation: https://pandas.pydata.org/pandas-docs/stable/user_guide/indexing.html#returning-a-view-versus-a-copy\n",
      "  df['day_of_week'] = df['date'].dt.dayofweek\n",
      "<ipython-input-18-43c987ee96bb>:6: SettingWithCopyWarning: \n",
      "A value is trying to be set on a copy of a slice from a DataFrame.\n",
      "Try using .loc[row_indexer,col_indexer] = value instead\n",
      "\n",
      "See the caveats in the documentation: https://pandas.pydata.org/pandas-docs/stable/user_guide/indexing.html#returning-a-view-versus-a-copy\n",
      "  df['quarter'] = df['date'].dt.quarter\n",
      "<ipython-input-18-43c987ee96bb>:7: SettingWithCopyWarning: \n",
      "A value is trying to be set on a copy of a slice from a DataFrame.\n",
      "Try using .loc[row_indexer,col_indexer] = value instead\n",
      "\n",
      "See the caveats in the documentation: https://pandas.pydata.org/pandas-docs/stable/user_guide/indexing.html#returning-a-view-versus-a-copy\n",
      "  df['month'] = df['date'].dt.month\n",
      "<ipython-input-18-43c987ee96bb>:8: SettingWithCopyWarning: \n",
      "A value is trying to be set on a copy of a slice from a DataFrame.\n",
      "Try using .loc[row_indexer,col_indexer] = value instead\n",
      "\n",
      "See the caveats in the documentation: https://pandas.pydata.org/pandas-docs/stable/user_guide/indexing.html#returning-a-view-versus-a-copy\n",
      "  df['year'] = df['date'].dt.year\n",
      "<ipython-input-18-43c987ee96bb>:9: SettingWithCopyWarning: \n",
      "A value is trying to be set on a copy of a slice from a DataFrame.\n",
      "Try using .loc[row_indexer,col_indexer] = value instead\n",
      "\n",
      "See the caveats in the documentation: https://pandas.pydata.org/pandas-docs/stable/user_guide/indexing.html#returning-a-view-versus-a-copy\n",
      "  df['day_of_year'] = df['date'].dt.dayofyear\n",
      "<ipython-input-18-43c987ee96bb>:10: SettingWithCopyWarning: \n",
      "A value is trying to be set on a copy of a slice from a DataFrame.\n",
      "Try using .loc[row_indexer,col_indexer] = value instead\n",
      "\n",
      "See the caveats in the documentation: https://pandas.pydata.org/pandas-docs/stable/user_guide/indexing.html#returning-a-view-versus-a-copy\n",
      "  df['day_of_month'] = df['date'].dt.day\n",
      "<ipython-input-18-43c987ee96bb>:11: SettingWithCopyWarning: \n",
      "A value is trying to be set on a copy of a slice from a DataFrame.\n",
      "Try using .loc[row_indexer,col_indexer] = value instead\n",
      "\n",
      "See the caveats in the documentation: https://pandas.pydata.org/pandas-docs/stable/user_guide/indexing.html#returning-a-view-versus-a-copy\n",
      "  df['week_of_year'] = df['date'].dt.weekofyear\n",
      "<ipython-input-18-43c987ee96bb>:12: SettingWithCopyWarning: \n",
      "A value is trying to be set on a copy of a slice from a DataFrame.\n",
      "Try using .loc[row_indexer,col_indexer] = value instead\n",
      "\n",
      "See the caveats in the documentation: https://pandas.pydata.org/pandas-docs/stable/user_guide/indexing.html#returning-a-view-versus-a-copy\n",
      "  df['holidays'] = [1 if str(val).split()[0] in hk_holidays else 0 for val in df.index]\n"
     ]
    }
   ],
   "source": [
    "# Train/Test Split \n",
    "# Since the training dataset is small, we use 1 month data to be the testing dataset\n",
    "test = data[data.index>=\"2018-12-01\"]\n",
    "# Testing dataset with implemented features engineering\n",
    "X_test, y_test = create_features(test, label='speed')\n",
    "\n",
    "# Since the training dataset is small, we use whole datset to fit the models\n",
    "X_all,y_all = create_features(data,label='speed')\n",
    "\n",
    "# Create feature for hand_in dataset\n",
    "X_sample_data = create_features(sample_data)\n",
    "# train = data[data.index<\"2018-12-01\"]\n",
    "# X_train, y_train = create_features(train, label='speed')"
   ]
  },
  {
   "cell_type": "code",
   "execution_count": 23,
   "metadata": {},
   "outputs": [
    {
     "name": "stdout",
     "output_type": "stream",
     "text": [
      "<class 'pandas.core.frame.DataFrame'>\n",
      "DatetimeIndex: 412 entries, 2018-12-01 00:00:00 to 2018-12-31 20:00:00\n",
      "Data columns (total 9 columns):\n",
      " #   Column        Non-Null Count  Dtype\n",
      "---  ------        --------------  -----\n",
      " 0   hour          412 non-null    int64\n",
      " 1   day_of_week   412 non-null    int64\n",
      " 2   quarter       412 non-null    int64\n",
      " 3   month         412 non-null    int64\n",
      " 4   year          412 non-null    int64\n",
      " 5   day_of_year   412 non-null    int64\n",
      " 6   day_of_month  412 non-null    int64\n",
      " 7   week_of_year  412 non-null    int64\n",
      " 8   holidays      412 non-null    int64\n",
      "dtypes: int64(9)\n",
      "memory usage: 32.2 KB\n"
     ]
    }
   ],
   "source": [
    "# The detail information after creating feature\n",
    "X_test.info()"
   ]
  },
  {
   "cell_type": "code",
   "execution_count": 24,
   "metadata": {},
   "outputs": [
    {
     "data": {
      "text/html": [
       "<div>\n",
       "<style scoped>\n",
       "    .dataframe tbody tr th:only-of-type {\n",
       "        vertical-align: middle;\n",
       "    }\n",
       "\n",
       "    .dataframe tbody tr th {\n",
       "        vertical-align: top;\n",
       "    }\n",
       "\n",
       "    .dataframe thead th {\n",
       "        text-align: right;\n",
       "    }\n",
       "</style>\n",
       "<table border=\"1\" class=\"dataframe\">\n",
       "  <thead>\n",
       "    <tr style=\"text-align: right;\">\n",
       "      <th></th>\n",
       "      <th>hour</th>\n",
       "      <th>day_of_week</th>\n",
       "      <th>quarter</th>\n",
       "      <th>month</th>\n",
       "      <th>year</th>\n",
       "      <th>day_of_year</th>\n",
       "      <th>day_of_month</th>\n",
       "      <th>week_of_year</th>\n",
       "      <th>holidays</th>\n",
       "    </tr>\n",
       "    <tr>\n",
       "      <th>date</th>\n",
       "      <th></th>\n",
       "      <th></th>\n",
       "      <th></th>\n",
       "      <th></th>\n",
       "      <th></th>\n",
       "      <th></th>\n",
       "      <th></th>\n",
       "      <th></th>\n",
       "      <th></th>\n",
       "    </tr>\n",
       "  </thead>\n",
       "  <tbody>\n",
       "    <tr>\n",
       "      <th>2018-12-01 00:00:00</th>\n",
       "      <td>0</td>\n",
       "      <td>5</td>\n",
       "      <td>4</td>\n",
       "      <td>12</td>\n",
       "      <td>2018</td>\n",
       "      <td>335</td>\n",
       "      <td>1</td>\n",
       "      <td>48</td>\n",
       "      <td>0</td>\n",
       "    </tr>\n",
       "    <tr>\n",
       "      <th>2018-12-01 01:00:00</th>\n",
       "      <td>1</td>\n",
       "      <td>5</td>\n",
       "      <td>4</td>\n",
       "      <td>12</td>\n",
       "      <td>2018</td>\n",
       "      <td>335</td>\n",
       "      <td>1</td>\n",
       "      <td>48</td>\n",
       "      <td>0</td>\n",
       "    </tr>\n",
       "    <tr>\n",
       "      <th>2018-12-01 05:00:00</th>\n",
       "      <td>5</td>\n",
       "      <td>5</td>\n",
       "      <td>4</td>\n",
       "      <td>12</td>\n",
       "      <td>2018</td>\n",
       "      <td>335</td>\n",
       "      <td>1</td>\n",
       "      <td>48</td>\n",
       "      <td>0</td>\n",
       "    </tr>\n",
       "    <tr>\n",
       "      <th>2018-12-01 06:00:00</th>\n",
       "      <td>6</td>\n",
       "      <td>5</td>\n",
       "      <td>4</td>\n",
       "      <td>12</td>\n",
       "      <td>2018</td>\n",
       "      <td>335</td>\n",
       "      <td>1</td>\n",
       "      <td>48</td>\n",
       "      <td>0</td>\n",
       "    </tr>\n",
       "    <tr>\n",
       "      <th>2018-12-01 07:00:00</th>\n",
       "      <td>7</td>\n",
       "      <td>5</td>\n",
       "      <td>4</td>\n",
       "      <td>12</td>\n",
       "      <td>2018</td>\n",
       "      <td>335</td>\n",
       "      <td>1</td>\n",
       "      <td>48</td>\n",
       "      <td>0</td>\n",
       "    </tr>\n",
       "    <tr>\n",
       "      <th>...</th>\n",
       "      <td>...</td>\n",
       "      <td>...</td>\n",
       "      <td>...</td>\n",
       "      <td>...</td>\n",
       "      <td>...</td>\n",
       "      <td>...</td>\n",
       "      <td>...</td>\n",
       "      <td>...</td>\n",
       "      <td>...</td>\n",
       "    </tr>\n",
       "    <tr>\n",
       "      <th>2018-12-31 12:00:00</th>\n",
       "      <td>12</td>\n",
       "      <td>0</td>\n",
       "      <td>4</td>\n",
       "      <td>12</td>\n",
       "      <td>2018</td>\n",
       "      <td>365</td>\n",
       "      <td>31</td>\n",
       "      <td>1</td>\n",
       "      <td>0</td>\n",
       "    </tr>\n",
       "    <tr>\n",
       "      <th>2018-12-31 15:00:00</th>\n",
       "      <td>15</td>\n",
       "      <td>0</td>\n",
       "      <td>4</td>\n",
       "      <td>12</td>\n",
       "      <td>2018</td>\n",
       "      <td>365</td>\n",
       "      <td>31</td>\n",
       "      <td>1</td>\n",
       "      <td>0</td>\n",
       "    </tr>\n",
       "    <tr>\n",
       "      <th>2018-12-31 16:00:00</th>\n",
       "      <td>16</td>\n",
       "      <td>0</td>\n",
       "      <td>4</td>\n",
       "      <td>12</td>\n",
       "      <td>2018</td>\n",
       "      <td>365</td>\n",
       "      <td>31</td>\n",
       "      <td>1</td>\n",
       "      <td>0</td>\n",
       "    </tr>\n",
       "    <tr>\n",
       "      <th>2018-12-31 18:00:00</th>\n",
       "      <td>18</td>\n",
       "      <td>0</td>\n",
       "      <td>4</td>\n",
       "      <td>12</td>\n",
       "      <td>2018</td>\n",
       "      <td>365</td>\n",
       "      <td>31</td>\n",
       "      <td>1</td>\n",
       "      <td>0</td>\n",
       "    </tr>\n",
       "    <tr>\n",
       "      <th>2018-12-31 20:00:00</th>\n",
       "      <td>20</td>\n",
       "      <td>0</td>\n",
       "      <td>4</td>\n",
       "      <td>12</td>\n",
       "      <td>2018</td>\n",
       "      <td>365</td>\n",
       "      <td>31</td>\n",
       "      <td>1</td>\n",
       "      <td>0</td>\n",
       "    </tr>\n",
       "  </tbody>\n",
       "</table>\n",
       "<p>412 rows × 9 columns</p>\n",
       "</div>"
      ],
      "text/plain": [
       "                     hour  day_of_week  quarter  month  year  day_of_year  \\\n",
       "date                                                                        \n",
       "2018-12-01 00:00:00     0            5        4     12  2018          335   \n",
       "2018-12-01 01:00:00     1            5        4     12  2018          335   \n",
       "2018-12-01 05:00:00     5            5        4     12  2018          335   \n",
       "2018-12-01 06:00:00     6            5        4     12  2018          335   \n",
       "2018-12-01 07:00:00     7            5        4     12  2018          335   \n",
       "...                   ...          ...      ...    ...   ...          ...   \n",
       "2018-12-31 12:00:00    12            0        4     12  2018          365   \n",
       "2018-12-31 15:00:00    15            0        4     12  2018          365   \n",
       "2018-12-31 16:00:00    16            0        4     12  2018          365   \n",
       "2018-12-31 18:00:00    18            0        4     12  2018          365   \n",
       "2018-12-31 20:00:00    20            0        4     12  2018          365   \n",
       "\n",
       "                     day_of_month  week_of_year  holidays  \n",
       "date                                                       \n",
       "2018-12-01 00:00:00             1            48         0  \n",
       "2018-12-01 01:00:00             1            48         0  \n",
       "2018-12-01 05:00:00             1            48         0  \n",
       "2018-12-01 06:00:00             1            48         0  \n",
       "2018-12-01 07:00:00             1            48         0  \n",
       "...                           ...           ...       ...  \n",
       "2018-12-31 12:00:00            31             1         0  \n",
       "2018-12-31 15:00:00            31             1         0  \n",
       "2018-12-31 16:00:00            31             1         0  \n",
       "2018-12-31 18:00:00            31             1         0  \n",
       "2018-12-31 20:00:00            31             1         0  \n",
       "\n",
       "[412 rows x 9 columns]"
      ]
     },
     "execution_count": 24,
     "metadata": {},
     "output_type": "execute_result"
    }
   ],
   "source": [
    "X_test"
   ]
  },
  {
   "cell_type": "markdown",
   "metadata": {},
   "source": [
    "# Create XGBoost Model"
   ]
  },
  {
   "cell_type": "code",
   "execution_count": 25,
   "metadata": {},
   "outputs": [
    {
     "data": {
      "text/plain": [
       "XGBRegressor(base_score=0.5, booster='gbtree', colsample_bylevel=1,\n",
       "             colsample_bynode=1, colsample_bytree=1, gamma=0, gpu_id=-1,\n",
       "             importance_type='gain', interaction_constraints='',\n",
       "             learning_rate=0.300000012, max_delta_step=0, max_depth=27,\n",
       "             min_child_weight=2, missing=nan, monotone_constraints='()',\n",
       "             n_estimators=300, n_jobs=0, num_parallel_tree=1, random_state=0,\n",
       "             reg_alpha=9, reg_lambda=1, scale_pos_weight=1, subsample=1,\n",
       "             tree_method='exact', validate_parameters=1, verbosity=None)"
      ]
     },
     "execution_count": 25,
     "metadata": {},
     "output_type": "execute_result"
    }
   ],
   "source": [
    "# n_estimators=300, min_child_weight=2, max_depth=24,reg_alpha=9 #score 9.80290\n",
    "# n_estimators=300, min_child_weight=2, max_depth=28,reg_alpha=9 #score 9.83055\n",
    "# n_estimators=300, min_child_weight=2, max_depth=26,reg_alpha=9 #score 9.74110\n",
    "# n_estimators=300, min_child_weight=2, max_depth=27,reg_alpha=9 #score 9.68809\n",
    "reg = xgb.XGBRegressor(n_estimators=300, min_child_weight=2, max_depth=27,reg_alpha=9)\n",
    "reg.fit(X_all, y_all,verbose=False)"
   ]
  },
  {
   "cell_type": "code",
   "execution_count": 26,
   "metadata": {},
   "outputs": [
    {
     "data": {
      "image/png": "[encoded data removed]",
      "text/plain": [
       "<Figure size 432x288 with 1 Axes>"
      ]
     },
     "metadata": {
      "needs_background": "light"
     },
     "output_type": "display_data"
    }
   ],
   "source": [
    "_ = plot_importance(reg, height=1.0)"
   ]
  },
  {
   "cell_type": "markdown",
   "metadata": {},
   "source": [
    "# Error Metrics On Test Set"
   ]
  },
  {
   "cell_type": "code",
   "execution_count": 27,
   "metadata": {},
   "outputs": [
    {
     "data": {
      "text/plain": [
       "2.1049266651932927"
      ]
     },
     "execution_count": 27,
     "metadata": {},
     "output_type": "execute_result"
    }
   ],
   "source": [
    "mean_squared_error(y_true=y_test,\n",
    "                   y_pred=reg.predict(X_test))"
   ]
  },
  {
   "cell_type": "markdown",
   "metadata": {},
   "source": [
    "# Predict Hand_in Testing Data"
   ]
  },
  {
   "cell_type": "code",
   "execution_count": 28,
   "metadata": {},
   "outputs": [],
   "source": [
    "# Predict the hand in testing data \n",
    "X_handin_1 = reg.predict(X_sample_data)\n",
    "df = pd.DataFrame(data=X_handin_1, columns=[\"speed\"])"
   ]
  },
  {
   "cell_type": "code",
   "execution_count": 29,
   "metadata": {},
   "outputs": [
    {
     "data": {
      "text/html": [
       "<div>\n",
       "<style scoped>\n",
       "    .dataframe tbody tr th:only-of-type {\n",
       "        vertical-align: middle;\n",
       "    }\n",
       "\n",
       "    .dataframe tbody tr th {\n",
       "        vertical-align: top;\n",
       "    }\n",
       "\n",
       "    .dataframe thead th {\n",
       "        text-align: right;\n",
       "    }\n",
       "</style>\n",
       "<table border=\"1\" class=\"dataframe\">\n",
       "  <thead>\n",
       "    <tr style=\"text-align: right;\">\n",
       "      <th></th>\n",
       "      <th>speed</th>\n",
       "    </tr>\n",
       "  </thead>\n",
       "  <tbody>\n",
       "    <tr>\n",
       "      <th>0</th>\n",
       "      <td>48.093746</td>\n",
       "    </tr>\n",
       "    <tr>\n",
       "      <th>1</th>\n",
       "      <td>47.916363</td>\n",
       "    </tr>\n",
       "    <tr>\n",
       "      <th>2</th>\n",
       "      <td>39.133141</td>\n",
       "    </tr>\n",
       "    <tr>\n",
       "      <th>3</th>\n",
       "      <td>27.871517</td>\n",
       "    </tr>\n",
       "    <tr>\n",
       "      <th>4</th>\n",
       "      <td>40.892269</td>\n",
       "    </tr>\n",
       "    <tr>\n",
       "      <th>...</th>\n",
       "      <td>...</td>\n",
       "    </tr>\n",
       "    <tr>\n",
       "      <th>3499</th>\n",
       "      <td>12.652089</td>\n",
       "    </tr>\n",
       "    <tr>\n",
       "      <th>3500</th>\n",
       "      <td>25.779325</td>\n",
       "    </tr>\n",
       "    <tr>\n",
       "      <th>3501</th>\n",
       "      <td>46.185123</td>\n",
       "    </tr>\n",
       "    <tr>\n",
       "      <th>3502</th>\n",
       "      <td>41.804634</td>\n",
       "    </tr>\n",
       "    <tr>\n",
       "      <th>3503</th>\n",
       "      <td>43.849155</td>\n",
       "    </tr>\n",
       "  </tbody>\n",
       "</table>\n",
       "<p>3504 rows × 1 columns</p>\n",
       "</div>"
      ],
      "text/plain": [
       "          speed\n",
       "0     48.093746\n",
       "1     47.916363\n",
       "2     39.133141\n",
       "3     27.871517\n",
       "4     40.892269\n",
       "...         ...\n",
       "3499  12.652089\n",
       "3500  25.779325\n",
       "3501  46.185123\n",
       "3502  41.804634\n",
       "3503  43.849155\n",
       "\n",
       "[3504 rows x 1 columns]"
      ]
     },
     "execution_count": 29,
     "metadata": {},
     "output_type": "execute_result"
    }
   ],
   "source": [
    "df"
   ]
  },
  {
   "cell_type": "code",
   "execution_count": 30,
   "metadata": {},
   "outputs": [],
   "source": [
    "# Output the submission data\n",
    "df = df.reset_index()\n",
    "df = df.rename(columns={'index': 'id'})\n",
    "df.to_csv('Submission.csv',index=False)"
   ]
  },
  {
   "cell_type": "code",
   "execution_count": 81,
   "metadata": {},
   "outputs": [],
   "source": []
  },
  {
   "cell_type": "code",
   "execution_count": null,
   "metadata": {},
   "outputs": [],
   "source": []
  }
 ],
 "metadata": {
  "kernelspec": {
   "display_name": "Python 3",
   "language": "python",
   "name": "python3"
  },
  "language_info": {
   "codemirror_mode": {
    "name": "ipython",
    "version": 3
   },
   "file_extension": ".py",
   "mimetype": "text/x-python",
   "name": "python",
   "nbconvert_exporter": "python",
   "pygments_lexer": "ipython3",
   "version": "3.8.3"
  }
 },
 "nbformat": 4,
 "nbformat_minor": 2
}
